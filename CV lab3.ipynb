{
 "cells": [
  {
   "cell_type": "code",
   "execution_count": 2,
   "id": "8f2d47d3",
   "metadata": {},
   "outputs": [],
   "source": [
    "import cv2\n",
    "import numpy as np\n",
    "from matplotlib import pyplot as plt"
   ]
  },
  {
   "cell_type": "markdown",
   "id": "63dff301",
   "metadata": {},
   "source": [
    "## Q1) Create image 256 * 256 Draw red square 50 * 50 in the center of blue circle with radius 80 the center of both square and circle is the same center of image. \n"
   ]
  },
  {
   "cell_type": "code",
   "execution_count": null,
   "id": "5dd7eb7b",
   "metadata": {},
   "outputs": [],
   "source": [
    "img=np.zeros((256,256,3),np.uint8)\n",
    "cv2.rectangle(img,(103,103),(153,153),(255,0,0),3)\n",
    "cv2.circle(img,(128,128),80,(0,0,255),3)\n",
    "plt.imshow(img)"
   ]
  },
  {
   "cell_type": "markdown",
   "id": "7ff57d57",
   "metadata": {},
   "source": [
    "## Q2) make trackbar to control line position ,color and thickness in image 500*500 rgb.\n"
   ]
  },
  {
   "cell_type": "code",
   "execution_count": 3,
   "id": "d1c05f36",
   "metadata": {},
   "outputs": [],
   "source": [
    "img = np.zeros((500, 500, 3), np.uint8)\n",
    "\n",
    "def nothing(x):\n",
    "    pass\n",
    "\n",
    "cv2.namedWindow(\"image\")\n",
    "\n",
    "cv2.createTrackbar('position_x', 'image', 0, 499, nothing)\n",
    "cv2.createTrackbar('position_y', 'image', 0, 499, nothing)\n",
    "cv2.createTrackbar('color_b', 'image', 0, 255, nothing)\n",
    "cv2.createTrackbar('color_g', 'image', 0, 255, nothing)\n",
    "cv2.createTrackbar('color_r', 'image', 0, 255, nothing)\n",
    "cv2.createTrackbar('thickness', 'image', 1, 10, nothing)\n",
    "\n",
    "while True:\n",
    "    position_x = cv2.getTrackbarPos('position_x', 'image')\n",
    "    position_y = cv2.getTrackbarPos('position_y', 'image')\n",
    "    color_b = cv2.getTrackbarPos('color_b', 'image')\n",
    "    color_g = cv2.getTrackbarPos('color_g', 'image')\n",
    "    color_r = cv2.getTrackbarPos('color_r', 'image')\n",
    "    thickness = cv2.getTrackbarPos('thickness', 'image')\n",
    "\n",
    "    img = np.zeros((500, 500, 3), np.uint8)\n",
    "    color = (color_b, color_g, color_r)\n",
    "    cv2.line(img, (position_x, position_y), (position_x+100, position_y+100), color, thickness)\n",
    "    cv2.imshow(\"image\", img)\n",
    "\n",
    "    k = cv2.waitKey(1)\n",
    "    if k == ord('q'):\n",
    "        break\n",
    "\n",
    "cv2.destroyAllWindows()"
   ]
  },
  {
   "cell_type": "markdown",
   "id": "d05fa751",
   "metadata": {},
   "source": [
    "## Q3) make trackbar to control position,radius and color of circle in image 500*500 rgb.\n"
   ]
  },
  {
   "cell_type": "code",
   "execution_count": 5,
   "id": "2eee5162",
   "metadata": {},
   "outputs": [],
   "source": [
    "img = np.zeros((500, 500, 3), np.uint8)\n",
    "\n",
    "def nothing(x):\n",
    "    pass\n",
    "\n",
    "cv2.namedWindow(\"image\")\n",
    "cv2.createTrackbar('position_x', 'image', 0, 499, nothing)\n",
    "cv2.createTrackbar('position_y', 'image', 0, 499, nothing)\n",
    "cv2.createTrackbar('radius', 'image', 0, 499, nothing)\n",
    "cv2.createTrackbar('color_b', 'image', 0, 255, nothing)\n",
    "cv2.createTrackbar('color_g', 'image', 0, 255, nothing)\n",
    "cv2.createTrackbar('color_r', 'image', 0, 255, nothing)\n",
    "cv2.createTrackbar('thickness', 'image', 1, 10, nothing)\n",
    "\n",
    "while True:\n",
    "    position_x = cv2.getTrackbarPos('position_x', 'image')\n",
    "    position_y = cv2.getTrackbarPos('position_y', 'image')\n",
    "    radius = cv2.getTrackbarPos('radius', 'image')\n",
    "    color_b = cv2.getTrackbarPos('color_b', 'image')\n",
    "    color_g = cv2.getTrackbarPos('color_g', 'image')\n",
    "    color_r = cv2.getTrackbarPos('color_r', 'image')\n",
    "    thickness = cv2.getTrackbarPos('thickness', 'image')\n",
    "\n",
    "    img = np.zeros((500, 500, 3), np.uint8)\n",
    "    center=(position_x,position_y)\n",
    "    color = (color_b, color_g, color_r)\n",
    "    cv2.circle(img, center, radius, color, thickness)\n",
    "    cv2.imshow(\"image\", img)\n",
    "\n",
    "    k = cv2.waitKey(1)\n",
    "    if k == ord('q'):\n",
    "        break\n",
    "\n",
    "cv2.destroyAllWindows()"
   ]
  },
  {
   "cell_type": "markdown",
   "id": "714ab019",
   "metadata": {},
   "source": [
    "## Q4) create image 800*800 rgb write a word “Hello”with red color and draw yellow rectangle on border of word \n"
   ]
  },
  {
   "cell_type": "code",
   "execution_count": 18,
   "id": "a57c7947",
   "metadata": {},
   "outputs": [
    {
     "name": "stdout",
     "output_type": "stream",
     "text": [
      "(195, 48)\n"
     ]
    },
    {
     "data": {
      "text/plain": [
       "<matplotlib.image.AxesImage at 0x2c2cab1c670>"
      ]
     },
     "execution_count": 18,
     "metadata": {},
     "output_type": "execute_result"
    },
    {
     "data": {
      "image/png": "[encoded data removed]",
      "text/plain": [
       "<Figure size 432x288 with 1 Axes>"
      ]
     },
     "metadata": {
      "needs_background": "light"
     },
     "output_type": "display_data"
    }
   ],
   "source": [
    "img = np.zeros((800, 800, 3), np.uint8)\n",
    "text_size, _ =cv2.getTextSize(\"Hello\",cv2.FONT_HERSHEY_PLAIN,5,5)\n",
    "cv2.putText(img,\"Hello\",(x,y),cv2.FONT_HERSHEY_PLAIN,5,(255,0,0),5,cv2.LINE_AA)\n",
    "print(text_size)\n",
    "cv2.rectangle(img,(x - 10, y - text_size[1] - 10),(x + text_size[0] + 10, y + 10),(255,255,0),3)\n",
    "plt.imshow(img)\n",
    "#cv2.circle(img,(400,400),100,(255,0,0),3)"
   ]
  },
  {
   "cell_type": "markdown",
   "id": "07fec1bb",
   "metadata": {},
   "source": [
    "## Q5) create image 800*800 rgb with red circle in center of image with radius 100 and make small blue circle with radius of 6 that move within circumference of the big circle every 1 second 10 degree. \n",
    "\n"
   ]
  },
  {
   "cell_type": "code",
   "execution_count": 22,
   "id": "a83c3882",
   "metadata": {},
   "outputs": [],
   "source": [
    "import math\n",
    "import time\n",
    "img = np.zeros((800, 800, 3), np.uint8)\n",
    "angle = 0\n",
    "while True:\n",
    "    img = np.zeros((800, 800, 3), np.uint8)    \n",
    "    x = 400 + int(100 * math.cos(math.radians(angle)))\n",
    "    y = 400 + int(100 * math.sin(math.radians(angle)))\n",
    "    cv2.circle(img, (400,400),100,(255,0,0),3)\n",
    "    cv2.circle(img, (x, y), 6, (0,0,255), 3)\n",
    "    cv2.imshow(\"Moving Circles\", img)\n",
    "    angle += 10\n",
    "    if angle >= 360:\n",
    "        angle = 0\n",
    "    time.sleep(1)\n",
    "    k = cv2.waitKey(1)\n",
    "    if k == ord('q'):\n",
    "        break\n",
    "cv2.destroyAllWindows()\n"
   ]
  },
  {
   "cell_type": "markdown",
   "id": "58b85fda",
   "metadata": {},
   "source": [
    "## Thanks"
   ]
  }
 ],
 "metadata": {
  "kernelspec": {
   "display_name": "Python 3",
   "language": "python",
   "name": "python3"
  },
  "language_info": {
   "codemirror_mode": {
    "name": "ipython",
    "version": 3
   },
   "file_extension": ".py",
   "mimetype": "text/x-python",
   "name": "python",
   "nbconvert_exporter": "python",
   "pygments_lexer": "ipython3",
   "version": "3.8.8"
  }
 },
 "nbformat": 4,
 "nbformat_minor": 5
}
