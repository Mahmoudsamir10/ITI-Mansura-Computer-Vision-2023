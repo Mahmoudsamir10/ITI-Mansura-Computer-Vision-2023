{
 "cells": [
  {
   "cell_type": "markdown",
   "id": "e0f03520",
   "metadata": {},
   "source": [
    "## Q10- read “Task_in” image and then print image shape ,plot the image using matplotlib and opencv then edit the right corner pixel to be red color then save the\n",
    "## image as (.jpg,.npg) to your current folder name it “my_image.png” then read both\n",
    "## image again. “Make your observation”\n",
    ".\n"
   ]
  },
  {
   "cell_type": "code",
   "execution_count": 2,
   "id": "6dc3e718",
   "metadata": {},
   "outputs": [],
   "source": [
    "import cv2\n",
    "import numpy as np\n",
    "import matplotlib.pyplot as plt"
   ]
  },
  {
   "cell_type": "code",
   "execution_count": null,
   "id": "3a7deda5",
   "metadata": {},
   "outputs": [],
   "source": [
    "# Read the \"Task_in\" image and print its shape\n",
    "image= \"Task_in.jpg\"  \n",
    "task_in_image = cv2.imread(image)\n",
    "print(\"Image Shape:\", task_in_image.shape)"
   ]
  },
  {
   "cell_type": "code",
   "execution_count": null,
   "id": "f7231153",
   "metadata": {},
   "outputs": [],
   "source": [
    "# Plot the image using matplotlib and opencv\n",
    "plt.imshow(cv2.cvtColor(task_in_image, cv2.COLOR_BGR2RGB))\n",
    "plt.title(\"Task_in Image\")\n",
    "plt.show()"
   ]
  },
  {
   "cell_type": "code",
   "execution_count": null,
   "id": "468f0657",
   "metadata": {},
   "outputs": [],
   "source": [
    "# Edit the right corner pixel to be red\n",
    "height, width, _ = task_in_image.shape\n",
    "# Set the pixel to red (BGR format)\n",
    "task_in_image[height - 1, width - 1] = [0, 0, 255]  "
   ]
  },
  {
   "cell_type": "code",
   "execution_count": null,
   "id": "1249c246",
   "metadata": {},
   "outputs": [],
   "source": [
    "# Save the edited image as .jpg and .png\n",
    "edited_image_jpg = \"my_image.jpg\"\n",
    "edited_image_png = \"my_image.png\"\n",
    "cv2.imwrite(edited_image_jpg, task_in_image)\n",
    "cv2.imwrite(edited_image_png, task_in_image)"
   ]
  },
  {
   "cell_type": "code",
   "execution_count": null,
   "id": "b75031b5",
   "metadata": {},
   "outputs": [],
   "source": [
    "# Read both the .jpg and .png images and make observations\n",
    "edited_image_jpg = cv2.imread(edited_image_jpg)\n",
    "edited_image_png = cv2.imread(edited_image_png)\n"
   ]
  },
  {
   "cell_type": "code",
   "execution_count": null,
   "id": "8cc2ff2b",
   "metadata": {},
   "outputs": [],
   "source": [
    "plt.imshow(cv2.cvtColor(edited_image_png, cv2.COLOR_BGR2RGB))"
   ]
  },
  {
   "cell_type": "code",
   "execution_count": null,
   "id": "ebfb0915",
   "metadata": {},
   "outputs": [],
   "source": [
    "plt.imshow(cv2.cvtColor(edited_image_jpg, cv2.COLOR_BGR2RGB))"
   ]
  },
  {
   "cell_type": "markdown",
   "id": "1e01d5d5",
   "metadata": {},
   "source": [
    "##  My observation : the right corner pixel in jpg image is little darker than png image"
   ]
  },
  {
   "cell_type": "markdown",
   "id": "e44aec3f",
   "metadata": {},
   "source": [
    "## Q11) make 51* 51 * 3 RGB image with Blue color then save it as \"Blue.jpg\""
   ]
  },
  {
   "cell_type": "code",
   "execution_count": null,
   "id": "496ae613",
   "metadata": {},
   "outputs": [],
   "source": [
    "img = np.zeros((51, 51, 3), dtype=np.uint8)\n",
    "img[:,:,:] = [0, 0, 255]\n",
    "plt.imshow(img)\n",
    "# Save the blue image as \"Blue.jpg\"\n",
    "cv2.imwrite(\"Blue.jpg\", img)"
   ]
  },
  {
   "cell_type": "markdown",
   "id": "4e09b97f",
   "metadata": {},
   "source": [
    "## Q12) Make trackbar for rgb colors with window “colors”"
   ]
  },
  {
   "cell_type": "code",
   "execution_count": 3,
   "id": "85d9e0f1",
   "metadata": {},
   "outputs": [],
   "source": [
    "# Initialize the window\n",
    "cv2.namedWindow(\"colors\")\n",
    "def nothing(x):\n",
    "    pass\n",
    "# Create trackbars for RGB components\n",
    "cv2.createTrackbar(\"Red\", \"colors\", 0, 255, nothing)\n",
    "cv2.createTrackbar(\"Green\", \"colors\", 0, 255, nothing)\n",
    "cv2.createTrackbar(\"Blue\", \"colors\", 0, 255, nothing)\n",
    "img_1 = np.zeros((256, 256, 3), dtype=np.uint8)\n",
    "cv2.imshow(\"colors\", img_1)\n",
    "while True:\n",
    "    key = cv2.waitKey(1)\n",
    "    if key == ord(\"q\"):\n",
    "        break\n",
    "cv2.destroyAllWindows()\n",
    "\n"
   ]
  },
  {
   "cell_type": "markdown",
   "id": "51c9bdeb",
   "metadata": {},
   "source": [
    "## Thanks"
   ]
  }
 ],
 "metadata": {
  "kernelspec": {
   "display_name": "Python 3",
   "language": "python",
   "name": "python3"
  },
  "language_info": {
   "codemirror_mode": {
    "name": "ipython",
    "version": 3
   },
   "file_extension": ".py",
   "mimetype": "text/x-python",
   "name": "python",
   "nbconvert_exporter": "python",
   "pygments_lexer": "ipython3",
   "version": "3.8.8"
  }
 },
 "nbformat": 4,
 "nbformat_minor": 5
}
