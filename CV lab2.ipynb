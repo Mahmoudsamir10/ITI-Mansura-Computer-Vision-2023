{
 "cells": [
  {
   "cell_type": "markdown",
   "id": "7882f467",
   "metadata": {},
   "source": [
    "## Q1) Make 100*100 rgb pixel image with white background and make diagonal of image with black color.\n",
    "\n"
   ]
  },
  {
   "cell_type": "code",
   "execution_count": 1,
   "id": "cb59b4bc",
   "metadata": {},
   "outputs": [],
   "source": [
    "import cv2\n",
    "import numpy as np\n",
    "from matplotlib import pyplot as plt"
   ]
  },
  {
   "cell_type": "code",
   "execution_count": null,
   "id": "aeeba757",
   "metadata": {},
   "outputs": [],
   "source": [
    "# Create a white background image\n",
    "image = np.ones((100, 100, 3), dtype=np.uint8)*255\n",
    "\n",
    "# Set the diagonal to black\n",
    "for i in range(100):\n",
    "    image[i,i] = [0, 0, 0]\n",
    "\n",
    "plt.imshow(image,cmap='gray')"
   ]
  },
  {
   "cell_type": "markdown",
   "id": "757d2b5c",
   "metadata": {},
   "source": [
    "## Q2) run video stream using your laptop camera and save frames when i press key “s” close camera when i press “q” ,name of images should be “img.png +{counter}”\n"
   ]
  },
  {
   "cell_type": "code",
   "execution_count": 13,
   "id": "a0fba5f5",
   "metadata": {},
   "outputs": [
    {
     "name": "stdout",
     "output_type": "stream",
     "text": [
      "Frame 1 saved as img_1.png\n"
     ]
    }
   ],
   "source": [
    "cap = cv2.VideoCapture(0)  \n",
    "frame_counter = 0\n",
    "while True:\n",
    "    ret, frame = cap.read()\n",
    "    cv2.imshow(\"Camera Feed\", frame)\n",
    "    key = cv2.waitKey(1)\n",
    "    # Save the frame when 's' key is pressed\n",
    "    if key == ord('s'):\n",
    "        frame_counter += 1\n",
    "        frame_filename = f\"img_{frame_counter}.png\"\n",
    "        cv2.imwrite(frame_filename, frame)\n",
    "        print(f\"Frame {frame_counter} saved as {frame_filename}\")\n",
    "    elif key == ord('q'):\n",
    "        break\n",
    "# Release the camera and close all OpenCV windows\n",
    "cap.release()\n",
    "cv2.destroyAllWindows()"
   ]
  },
  {
   "cell_type": "markdown",
   "id": "464523f4",
   "metadata": {},
   "source": [
    "## Q3) Make 100*100 rgb pixel image with black background and make diagonal of image with (x) color such that x is came from rgb trackbar.\n",
    "\n"
   ]
  },
  {
   "cell_type": "code",
   "execution_count": 10,
   "id": "d26f4609",
   "metadata": {},
   "outputs": [],
   "source": [
    "image = np.zeros((100, 100, 3), dtype=np.uint8)\n",
    "r = g = b = 0\n",
    "def RGB_color(x):\n",
    "    global r, g, b\n",
    "    r = cv2.getTrackbarPos('Red', 'Image')\n",
    "    g = cv2.getTrackbarPos('Green', 'Image')\n",
    "    b = cv2.getTrackbarPos('Blue', 'Image')\n",
    "    draw_diagonal()\n",
    "def draw_diagonal():\n",
    "    for i in range(100):\n",
    "        for j in range(100):\n",
    "            if i == j:\n",
    "                image[i, j] = [b, g, r]\n",
    "    cv2.imshow(\"Image\", image)\n",
    "\n",
    "cv2.namedWindow(\"Image\")\n",
    "cv2.createTrackbar('Red', 'Image', 0, 255, RGB_color)\n",
    "cv2.createTrackbar('Green', 'Image', 0, 255, RGB_color)\n",
    "cv2.createTrackbar('Blue', 'Image', 0, 255, RGB_color)\n",
    "# call function to Initialize the image\n",
    "draw_diagonal()\n",
    "\n",
    "while True:\n",
    "    cv2.imshow(\"Image\", image)\n",
    "    key = cv2.waitKey(1)\n",
    "    if key == ord('q'):\n",
    "        break\n",
    "cv2.destroyAllWindows()"
   ]
  },
  {
   "cell_type": "markdown",
   "id": "c41d0d9f",
   "metadata": {},
   "source": [
    "## Q4) create 100*100 rgb image with black background and make 1 vertical line and 1 horizontal line the color of both should be controlled spereat from 2 trackbar\n",
    "## First one “horz” and second one is “vert”\n",
    "\n"
   ]
  },
  {
   "cell_type": "code",
   "execution_count": null,
   "id": "6199fd43",
   "metadata": {},
   "outputs": [],
   "source": [
    "img=np.zeros((100,100,3),np.uint8)\n",
    "def nothing(x):\n",
    "    pass\n",
    "cv2.namedWindow(\"image\")\n",
    "cv2.createTrackbar('horizontal','image',0,255,nothing)\n",
    "cv2.createTrackbar('vertical','image',0,255,nothing)\n",
    "while 1:\n",
    "    horizontal=(0, 0, cv2.getTrackbarPos(\"horizontal\", \"image\"))\n",
    "    vertical=(cv2.getTrackbarPos(\"vertical\", \"image\"), 0, 0)\n",
    "    img=np.zeros((100,100,3),np.uint8)\n",
    "    img[:, 50]=horizontal\n",
    "    img[50, :]=vertical\n",
    "    cv2.imshow('image',img)\n",
    "    k= cv2.waitKey(1)\n",
    "    if k== ord('q'):\n",
    "        break\n",
    "cv2.destroyAllWindows()\n"
   ]
  },
  {
   "cell_type": "markdown",
   "id": "14b2e742",
   "metadata": {},
   "source": [
    "## Q5) create 250*250 rgb image with black background and make 1 vertical line and 1 horizontal line with red color and both should be controlled spereat from 2 trackbar to select the horizontal line in which row and vertical line in which column.\n",
    "\n",
    "## First one “horz” and second one is “vert” (Trackbar) "
   ]
  },
  {
   "cell_type": "code",
   "execution_count": 11,
   "id": "ca3c7d34",
   "metadata": {},
   "outputs": [],
   "source": [
    "img=np.zeros((250,250,3),np.uint8)\n",
    "def nothing(x):\n",
    "    pass\n",
    "cv2.namedWindow(\"image\")\n",
    "cv2.createTrackbar('row','image',0,249,nothing)\n",
    "cv2.createTrackbar('col','image',0,249,nothing)\n",
    "while 1:\n",
    "    row=(0,0,cv2.getTrackbarPos(\"row\", \"image\"))\n",
    "    col=(0,0,cv2.getTrackbarPos(\"col\", \"image\"))\n",
    "    img=np.zeros((250,250,3),np.uint8)\n",
    "    line_color = (0, 0, 255)\n",
    "    img[:,row]=line_color\n",
    "    img[col, :]=line_color\n",
    "    cv2.imshow('image',img)\n",
    "    k= cv2.waitKey(1)\n",
    "    if k== ord('q'):\n",
    "        break\n",
    "cv2.destroyAllWindows()\n"
   ]
  },
  {
   "cell_type": "markdown",
   "id": "7961bf7d",
   "metadata": {},
   "source": [
    "## Thanks"
   ]
  }
 ],
 "metadata": {
  "kernelspec": {
   "display_name": "Python 3",
   "language": "python",
   "name": "python3"
  },
  "language_info": {
   "codemirror_mode": {
    "name": "ipython",
    "version": 3
   },
   "file_extension": ".py",
   "mimetype": "text/x-python",
   "name": "python",
   "nbconvert_exporter": "python",
   "pygments_lexer": "ipython3",
   "version": "3.8.8"
  }
 },
 "nbformat": 4,
 "nbformat_minor": 5
}
