{
 "cells": [
  {
   "cell_type": "code",
   "execution_count": 91,
   "id": "77684782",
   "metadata": {},
   "outputs": [],
   "source": [
    "import cv2\n",
    "import numpy as np\n",
    "from matplotlib import pyplot as plt\n",
    "import math\n",
    "import datetime"
   ]
  },
  {
   "cell_type": "code",
   "execution_count": 92,
   "id": "e1c28243",
   "metadata": {},
   "outputs": [
    {
     "name": "stdout",
     "output_type": "stream",
     "text": [
      "date = 14-09-2023\n",
      "time = 10:08:39\n"
     ]
    }
   ],
   "source": [
    "now = datetime.datetime.now()\n",
    "current_time_date = now.strftime(\"%d-%m-%Y %H:%M:%S\")\n",
    "print(\"date =\", current_time_date[:10])\n",
    "print(\"time =\", current_time_date[11:])"
   ]
  },
  {
   "cell_type": "code",
   "execution_count": 93,
   "id": "a2431e14",
   "metadata": {},
   "outputs": [],
   "source": [
    "# dict represente the houres number VS degree\n",
    "hours_degree= {60:1,30:2,0:3,330:4,300:5,270:6,240:7,210:8,180:9,150:10,120:11,90:2}"
   ]
  },
  {
   "cell_type": "code",
   "execution_count": 94,
   "id": "44133212",
   "metadata": {},
   "outputs": [],
   "source": [
    "# draw body of clk \n",
    "def create_clk_body(img):\n",
    "    # Minutes dots\n",
    "    for i in range(0, 360, 6):\n",
    "        cv2.circle(img, (int(400+100*np.cos(np.radians(i))), \n",
    "                      int(400+100*np.sin(np.radians(i)))), 1,(255, 255, 0), -1)\n",
    "    # Hours dots   \n",
    "    for i in range(0, 360, 30):\n",
    "        cv2.circle(img, (int(400+100*np.cos(np.radians(i))), \n",
    "                      int(400+100*np.sin(np.radians(i)))), 3,(255, 255, 0), -1)\n",
    "    # Hours numbers\n",
    "    for i in range(0, 360, 30):\n",
    "        cv2.putText(img,f'{hours_degree[i]}', (int(400+120*np.cos(np.radians(-i))), \n",
    "                      int(400+120*np.sin(np.radians(-i)))),cv2.FONT_ITALIC, 0.35, (255, 255, 0), 1, cv2.LINE_AA)\n",
    "    # The center of the clock\n",
    "    cv2.circle(img, (400, 400), 1 ,(210, 210, 120), 2)"
   ]
  },
  {
   "cell_type": "code",
   "execution_count": 95,
   "id": "08c00846",
   "metadata": {},
   "outputs": [],
   "source": [
    "img = np.zeros((800, 800, 3), np.uint8)\n",
    "cv2.circle(img, (400, 400), 100 ,(0, 0, 255), 2)\n",
    "create_clk_body(img)\n",
    "cv2.namedWindow(\"Clock\")\n",
    "now = datetime.datetime.now()\n",
    "current_time_date = now.strftime(\"%d-%m-%Y %H:%M:%S\")\n",
    "sec  = int(current_time_date[17:])\n",
    "mint = int(current_time_date[14:16])\n",
    "hour = int(current_time_date[11:13])\n",
    "m, s, h = 0, 0, 0\n",
    "\n",
    "# Control seconds To be continues\n",
    "if sec >= 15 and sec <= 59:\n",
    "    s = 6 *(sec - 15)\n",
    "elif sec >= 0 and sec <= 14:\n",
    "    s = 270 + (6 * sec) \n",
    "\n",
    "# Control minutes\n",
    "if mint >= 15 and mint <= 59:\n",
    "    m = 6 * (mint - 15)\n",
    "elif mint >= 0 and mint <= 14:\n",
    "    m = 270 + (6 * mint) \n",
    "        \n",
    "# Control Hours\n",
    "if hour >= 15 and hour <= 24:\n",
    "    h = 30 * (hour - 15)    \n",
    "elif hour >= 12 and hour <15:\n",
    "    h = 270 + (30 * (hour-12))    \n",
    "elif hour >= 3 and hour < 12:\n",
    "    h = 30 * (hour - 3)\n",
    "elif hour >= 1 and hour < 3:\n",
    "    h = 270 + (30 * hour)\n",
    "\n",
    "\n",
    "while 1:\n",
    "    now = datetime.datetime.now()\n",
    "    current_time = now.strftime(\"%d-%m-%Y %H:%M:%S\")\n",
    "    # Date text\n",
    "    cv2.putText(img,f'Date : {current_time[:10]}', (50, 100),cv2.FONT_HERSHEY_PLAIN, 2, (255, 255, 0), 2, cv2.LINE_AA)\n",
    "    # Time text \n",
    "    cv2.putText(img,f'Time : {current_time[11:]}', (50, 200),cv2.FONT_HERSHEY_PLAIN, 2, (255, 255, 0), 2, cv2.LINE_AA)\n",
    "    \n",
    "    current_hour = int(current_time[11:13])\n",
    "    mint = int(current_time[14:16])\n",
    "    \n",
    "    # Control Hour\n",
    "    \n",
    "    cv2.line(img, (400, 400), (int(400+60*math.cos(math.radians(h))), int(400+60*math.sin(math.radians(h)))), (0, 0, 255), 1)\n",
    "    \n",
    "    # Control Min\n",
    "    \n",
    "    cv2.line(img, (400, 400), (int(400+90*math.cos(math.radians(m))), int(400+70*math.sin(math.radians(m)))), (255, 200, 150), 1)\n",
    "\n",
    "    # Control Seconds \n",
    "    \n",
    "    cv2.line(img, (400, 400), (int(400+90*math.cos(math.radians(s))), int(400+80*math.sin(math.radians(s)))), (255, 0, 150), 1)\n",
    "    cv2.imshow('Clock', img)\n",
    "    k = cv2.waitKey(1)\n",
    "    m += 0.0006   #60/24*60*60 To be continues\n",
    "    s += 0.0416   #360/24*60*60 To be continues\n",
    "    h += 0.00006  #6/24*60*60  To be continues\n",
    "    img = np.zeros((800, 800, 3), np.uint8)\n",
    "    cv2.circle(img, (400, 400), 100,(50, 120, 255), 2)    \n",
    "    create_clk_body(img)   \n",
    "    if k == ord('q'):\n",
    "        break\n",
    "cv2.destroyAllWindows()"
   ]
  }
 ],
 "metadata": {
  "kernelspec": {
   "display_name": "Python 3",
   "language": "python",
   "name": "python3"
  },
  "language_info": {
   "codemirror_mode": {
    "name": "ipython",
    "version": 3
   },
   "file_extension": ".py",
   "mimetype": "text/x-python",
   "name": "python",
   "nbconvert_exporter": "python",
   "pygments_lexer": "ipython3",
   "version": "3.8.8"
  }
 },
 "nbformat": 4,
 "nbformat_minor": 5
}
